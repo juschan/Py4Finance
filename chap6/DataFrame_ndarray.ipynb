{
 "cells": [
  {
   "cell_type": "markdown",
   "metadata": {},
   "source": [
    "# DataFrame with ndarray example"
   ]
  },
  {
   "cell_type": "code",
   "execution_count": 2,
   "metadata": {
    "collapsed": true
   },
   "outputs": [],
   "source": [
    "import numpy as np\n",
    "import pandas as pd"
   ]
  },
  {
   "cell_type": "code",
   "execution_count": 3,
   "metadata": {},
   "outputs": [
    {
     "data": {
      "text/plain": [
       "array([[-1.174896, -0.781531, -0.488791, -0.645084],\n",
       "       [-0.911536,  0.639515,  0.356068,  0.240694],\n",
       "       [-1.346575, -0.437332,  2.336709, -0.287027],\n",
       "       [-1.109224, -0.503087, -0.461248,  0.669863],\n",
       "       [ 2.341483, -0.418735,  1.296967,  0.372415],\n",
       "       [-0.711231, -0.746671,  1.315203,  0.32258 ],\n",
       "       [ 1.161999, -1.188229, -1.680993, -0.809513],\n",
       "       [-2.349436,  0.660176, -1.033552, -1.236157],\n",
       "       [ 2.309521, -0.152856,  1.496908, -0.889125]])"
      ]
     },
     "execution_count": 3,
     "metadata": {},
     "output_type": "execute_result"
    }
   ],
   "source": [
    "a = np.random.standard_normal((9,4))\n",
    "a.round(6)"
   ]
  },
  {
   "cell_type": "code",
   "execution_count": 4,
   "metadata": {},
   "outputs": [
    {
     "data": {
      "text/html": [
       "<div>\n",
       "<style>\n",
       "    .dataframe thead tr:only-child th {\n",
       "        text-align: right;\n",
       "    }\n",
       "\n",
       "    .dataframe thead th {\n",
       "        text-align: left;\n",
       "    }\n",
       "\n",
       "    .dataframe tbody tr th {\n",
       "        vertical-align: top;\n",
       "    }\n",
       "</style>\n",
       "<table border=\"1\" class=\"dataframe\">\n",
       "  <thead>\n",
       "    <tr style=\"text-align: right;\">\n",
       "      <th></th>\n",
       "      <th>0</th>\n",
       "      <th>1</th>\n",
       "      <th>2</th>\n",
       "      <th>3</th>\n",
       "    </tr>\n",
       "  </thead>\n",
       "  <tbody>\n",
       "    <tr>\n",
       "      <th>0</th>\n",
       "      <td>-1.174896</td>\n",
       "      <td>-0.781531</td>\n",
       "      <td>-0.488791</td>\n",
       "      <td>-0.645084</td>\n",
       "    </tr>\n",
       "    <tr>\n",
       "      <th>1</th>\n",
       "      <td>-0.911536</td>\n",
       "      <td>0.639515</td>\n",
       "      <td>0.356068</td>\n",
       "      <td>0.240694</td>\n",
       "    </tr>\n",
       "    <tr>\n",
       "      <th>2</th>\n",
       "      <td>-1.346575</td>\n",
       "      <td>-0.437332</td>\n",
       "      <td>2.336709</td>\n",
       "      <td>-0.287027</td>\n",
       "    </tr>\n",
       "    <tr>\n",
       "      <th>3</th>\n",
       "      <td>-1.109224</td>\n",
       "      <td>-0.503087</td>\n",
       "      <td>-0.461248</td>\n",
       "      <td>0.669863</td>\n",
       "    </tr>\n",
       "    <tr>\n",
       "      <th>4</th>\n",
       "      <td>2.341483</td>\n",
       "      <td>-0.418735</td>\n",
       "      <td>1.296967</td>\n",
       "      <td>0.372415</td>\n",
       "    </tr>\n",
       "    <tr>\n",
       "      <th>5</th>\n",
       "      <td>-0.711231</td>\n",
       "      <td>-0.746671</td>\n",
       "      <td>1.315203</td>\n",
       "      <td>0.322580</td>\n",
       "    </tr>\n",
       "    <tr>\n",
       "      <th>6</th>\n",
       "      <td>1.161999</td>\n",
       "      <td>-1.188229</td>\n",
       "      <td>-1.680993</td>\n",
       "      <td>-0.809513</td>\n",
       "    </tr>\n",
       "    <tr>\n",
       "      <th>7</th>\n",
       "      <td>-2.349436</td>\n",
       "      <td>0.660176</td>\n",
       "      <td>-1.033552</td>\n",
       "      <td>-1.236157</td>\n",
       "    </tr>\n",
       "    <tr>\n",
       "      <th>8</th>\n",
       "      <td>2.309521</td>\n",
       "      <td>-0.152856</td>\n",
       "      <td>1.496908</td>\n",
       "      <td>-0.889125</td>\n",
       "    </tr>\n",
       "  </tbody>\n",
       "</table>\n",
       "</div>"
      ],
      "text/plain": [
       "          0         1         2         3\n",
       "0 -1.174896 -0.781531 -0.488791 -0.645084\n",
       "1 -0.911536  0.639515  0.356068  0.240694\n",
       "2 -1.346575 -0.437332  2.336709 -0.287027\n",
       "3 -1.109224 -0.503087 -0.461248  0.669863\n",
       "4  2.341483 -0.418735  1.296967  0.372415\n",
       "5 -0.711231 -0.746671  1.315203  0.322580\n",
       "6  1.161999 -1.188229 -1.680993 -0.809513\n",
       "7 -2.349436  0.660176 -1.033552 -1.236157\n",
       "8  2.309521 -0.152856  1.496908 -0.889125"
      ]
     },
     "execution_count": 4,
     "metadata": {},
     "output_type": "execute_result"
    }
   ],
   "source": [
    "df = pd.DataFrame(a)\n",
    "df"
   ]
  },
  {
   "cell_type": "code",
   "execution_count": 5,
   "metadata": {},
   "outputs": [
    {
     "data": {
      "text/html": [
       "<div>\n",
       "<style>\n",
       "    .dataframe thead tr:only-child th {\n",
       "        text-align: right;\n",
       "    }\n",
       "\n",
       "    .dataframe thead th {\n",
       "        text-align: left;\n",
       "    }\n",
       "\n",
       "    .dataframe tbody tr th {\n",
       "        vertical-align: top;\n",
       "    }\n",
       "</style>\n",
       "<table border=\"1\" class=\"dataframe\">\n",
       "  <thead>\n",
       "    <tr style=\"text-align: right;\">\n",
       "      <th></th>\n",
       "      <th>No1</th>\n",
       "      <th>No2</th>\n",
       "      <th>No3</th>\n",
       "      <th>No4</th>\n",
       "    </tr>\n",
       "  </thead>\n",
       "  <tbody>\n",
       "    <tr>\n",
       "      <th>0</th>\n",
       "      <td>-1.174896</td>\n",
       "      <td>-0.781531</td>\n",
       "      <td>-0.488791</td>\n",
       "      <td>-0.645084</td>\n",
       "    </tr>\n",
       "    <tr>\n",
       "      <th>1</th>\n",
       "      <td>-0.911536</td>\n",
       "      <td>0.639515</td>\n",
       "      <td>0.356068</td>\n",
       "      <td>0.240694</td>\n",
       "    </tr>\n",
       "    <tr>\n",
       "      <th>2</th>\n",
       "      <td>-1.346575</td>\n",
       "      <td>-0.437332</td>\n",
       "      <td>2.336709</td>\n",
       "      <td>-0.287027</td>\n",
       "    </tr>\n",
       "    <tr>\n",
       "      <th>3</th>\n",
       "      <td>-1.109224</td>\n",
       "      <td>-0.503087</td>\n",
       "      <td>-0.461248</td>\n",
       "      <td>0.669863</td>\n",
       "    </tr>\n",
       "    <tr>\n",
       "      <th>4</th>\n",
       "      <td>2.341483</td>\n",
       "      <td>-0.418735</td>\n",
       "      <td>1.296967</td>\n",
       "      <td>0.372415</td>\n",
       "    </tr>\n",
       "    <tr>\n",
       "      <th>5</th>\n",
       "      <td>-0.711231</td>\n",
       "      <td>-0.746671</td>\n",
       "      <td>1.315203</td>\n",
       "      <td>0.322580</td>\n",
       "    </tr>\n",
       "    <tr>\n",
       "      <th>6</th>\n",
       "      <td>1.161999</td>\n",
       "      <td>-1.188229</td>\n",
       "      <td>-1.680993</td>\n",
       "      <td>-0.809513</td>\n",
       "    </tr>\n",
       "    <tr>\n",
       "      <th>7</th>\n",
       "      <td>-2.349436</td>\n",
       "      <td>0.660176</td>\n",
       "      <td>-1.033552</td>\n",
       "      <td>-1.236157</td>\n",
       "    </tr>\n",
       "    <tr>\n",
       "      <th>8</th>\n",
       "      <td>2.309521</td>\n",
       "      <td>-0.152856</td>\n",
       "      <td>1.496908</td>\n",
       "      <td>-0.889125</td>\n",
       "    </tr>\n",
       "  </tbody>\n",
       "</table>\n",
       "</div>"
      ],
      "text/plain": [
       "        No1       No2       No3       No4\n",
       "0 -1.174896 -0.781531 -0.488791 -0.645084\n",
       "1 -0.911536  0.639515  0.356068  0.240694\n",
       "2 -1.346575 -0.437332  2.336709 -0.287027\n",
       "3 -1.109224 -0.503087 -0.461248  0.669863\n",
       "4  2.341483 -0.418735  1.296967  0.372415\n",
       "5 -0.711231 -0.746671  1.315203  0.322580\n",
       "6  1.161999 -1.188229 -1.680993 -0.809513\n",
       "7 -2.349436  0.660176 -1.033552 -1.236157\n",
       "8  2.309521 -0.152856  1.496908 -0.889125"
      ]
     },
     "execution_count": 5,
     "metadata": {},
     "output_type": "execute_result"
    }
   ],
   "source": [
    "df.columns = [['No1', 'No2', 'No3', 'No4']]\n",
    "df"
   ]
  },
  {
   "cell_type": "code",
   "execution_count": 6,
   "metadata": {},
   "outputs": [
    {
     "data": {
      "text/plain": [
       "-0.50308726520401814"
      ]
     },
     "execution_count": 6,
     "metadata": {},
     "output_type": "execute_result"
    }
   ],
   "source": [
    "df['No2'][3]"
   ]
  },
  {
   "cell_type": "code",
   "execution_count": 7,
   "metadata": {},
   "outputs": [
    {
     "data": {
      "text/plain": [
       "DatetimeIndex(['2015-01-31', '2015-02-28', '2015-03-31', '2015-04-30',\n",
       "               '2015-05-31', '2015-06-30', '2015-07-31', '2015-08-31',\n",
       "               '2015-09-30'],\n",
       "              dtype='datetime64[ns]', freq='M')"
      ]
     },
     "execution_count": 7,
     "metadata": {},
     "output_type": "execute_result"
    }
   ],
   "source": [
    "dates = pd.date_range('2015-1-1', periods=9, freq='M')\n",
    "dates"
   ]
  },
  {
   "cell_type": "code",
   "execution_count": 8,
   "metadata": {},
   "outputs": [
    {
     "data": {
      "text/html": [
       "<div>\n",
       "<style>\n",
       "    .dataframe thead tr:only-child th {\n",
       "        text-align: right;\n",
       "    }\n",
       "\n",
       "    .dataframe thead th {\n",
       "        text-align: left;\n",
       "    }\n",
       "\n",
       "    .dataframe tbody tr th {\n",
       "        vertical-align: top;\n",
       "    }\n",
       "</style>\n",
       "<table border=\"1\" class=\"dataframe\">\n",
       "  <thead>\n",
       "    <tr style=\"text-align: right;\">\n",
       "      <th></th>\n",
       "      <th>No1</th>\n",
       "      <th>No2</th>\n",
       "      <th>No3</th>\n",
       "      <th>No4</th>\n",
       "    </tr>\n",
       "  </thead>\n",
       "  <tbody>\n",
       "    <tr>\n",
       "      <th>2015-01-31</th>\n",
       "      <td>-1.174896</td>\n",
       "      <td>-0.781531</td>\n",
       "      <td>-0.488791</td>\n",
       "      <td>-0.645084</td>\n",
       "    </tr>\n",
       "    <tr>\n",
       "      <th>2015-02-28</th>\n",
       "      <td>-0.911536</td>\n",
       "      <td>0.639515</td>\n",
       "      <td>0.356068</td>\n",
       "      <td>0.240694</td>\n",
       "    </tr>\n",
       "    <tr>\n",
       "      <th>2015-03-31</th>\n",
       "      <td>-1.346575</td>\n",
       "      <td>-0.437332</td>\n",
       "      <td>2.336709</td>\n",
       "      <td>-0.287027</td>\n",
       "    </tr>\n",
       "    <tr>\n",
       "      <th>2015-04-30</th>\n",
       "      <td>-1.109224</td>\n",
       "      <td>-0.503087</td>\n",
       "      <td>-0.461248</td>\n",
       "      <td>0.669863</td>\n",
       "    </tr>\n",
       "    <tr>\n",
       "      <th>2015-05-31</th>\n",
       "      <td>2.341483</td>\n",
       "      <td>-0.418735</td>\n",
       "      <td>1.296967</td>\n",
       "      <td>0.372415</td>\n",
       "    </tr>\n",
       "    <tr>\n",
       "      <th>2015-06-30</th>\n",
       "      <td>-0.711231</td>\n",
       "      <td>-0.746671</td>\n",
       "      <td>1.315203</td>\n",
       "      <td>0.322580</td>\n",
       "    </tr>\n",
       "    <tr>\n",
       "      <th>2015-07-31</th>\n",
       "      <td>1.161999</td>\n",
       "      <td>-1.188229</td>\n",
       "      <td>-1.680993</td>\n",
       "      <td>-0.809513</td>\n",
       "    </tr>\n",
       "    <tr>\n",
       "      <th>2015-08-31</th>\n",
       "      <td>-2.349436</td>\n",
       "      <td>0.660176</td>\n",
       "      <td>-1.033552</td>\n",
       "      <td>-1.236157</td>\n",
       "    </tr>\n",
       "    <tr>\n",
       "      <th>2015-09-30</th>\n",
       "      <td>2.309521</td>\n",
       "      <td>-0.152856</td>\n",
       "      <td>1.496908</td>\n",
       "      <td>-0.889125</td>\n",
       "    </tr>\n",
       "  </tbody>\n",
       "</table>\n",
       "</div>"
      ],
      "text/plain": [
       "                 No1       No2       No3       No4\n",
       "2015-01-31 -1.174896 -0.781531 -0.488791 -0.645084\n",
       "2015-02-28 -0.911536  0.639515  0.356068  0.240694\n",
       "2015-03-31 -1.346575 -0.437332  2.336709 -0.287027\n",
       "2015-04-30 -1.109224 -0.503087 -0.461248  0.669863\n",
       "2015-05-31  2.341483 -0.418735  1.296967  0.372415\n",
       "2015-06-30 -0.711231 -0.746671  1.315203  0.322580\n",
       "2015-07-31  1.161999 -1.188229 -1.680993 -0.809513\n",
       "2015-08-31 -2.349436  0.660176 -1.033552 -1.236157\n",
       "2015-09-30  2.309521 -0.152856  1.496908 -0.889125"
      ]
     },
     "execution_count": 8,
     "metadata": {},
     "output_type": "execute_result"
    }
   ],
   "source": [
    "df.index=dates\n",
    "df"
   ]
  },
  {
   "cell_type": "code",
   "execution_count": 9,
   "metadata": {},
   "outputs": [
    {
     "data": {
      "text/plain": [
       "array([[-1.174896, -0.781531, -0.488791, -0.645084],\n",
       "       [-0.911536,  0.639515,  0.356068,  0.240694],\n",
       "       [-1.346575, -0.437332,  2.336709, -0.287027],\n",
       "       [-1.109224, -0.503087, -0.461248,  0.669863],\n",
       "       [ 2.341483, -0.418735,  1.296967,  0.372415],\n",
       "       [-0.711231, -0.746671,  1.315203,  0.32258 ],\n",
       "       [ 1.161999, -1.188229, -1.680993, -0.809513],\n",
       "       [-2.349436,  0.660176, -1.033552, -1.236157],\n",
       "       [ 2.309521, -0.152856,  1.496908, -0.889125]])"
      ]
     },
     "execution_count": 9,
     "metadata": {},
     "output_type": "execute_result"
    }
   ],
   "source": [
    "np.array(df).round(6)"
   ]
  },
  {
   "cell_type": "code",
   "execution_count": 10,
   "metadata": {},
   "outputs": [
    {
     "data": {
      "text/plain": [
       "No1   -1.789895\n",
       "No2   -2.928751\n",
       "No3    3.137272\n",
       "No4   -2.261354\n",
       "dtype: float64"
      ]
     },
     "execution_count": 10,
     "metadata": {},
     "output_type": "execute_result"
    }
   ],
   "source": [
    "df.sum()"
   ]
  },
  {
   "cell_type": "code",
   "execution_count": 11,
   "metadata": {},
   "outputs": [
    {
     "data": {
      "text/plain": [
       "No1   -0.198877\n",
       "No2   -0.325417\n",
       "No3    0.348586\n",
       "No4   -0.251262\n",
       "dtype: float64"
      ]
     },
     "execution_count": 11,
     "metadata": {},
     "output_type": "execute_result"
    }
   ],
   "source": [
    "df.mean()"
   ]
  },
  {
   "cell_type": "code",
   "execution_count": 12,
   "metadata": {},
   "outputs": [
    {
     "data": {
      "text/html": [
       "<div>\n",
       "<style>\n",
       "    .dataframe thead tr:only-child th {\n",
       "        text-align: right;\n",
       "    }\n",
       "\n",
       "    .dataframe thead th {\n",
       "        text-align: left;\n",
       "    }\n",
       "\n",
       "    .dataframe tbody tr th {\n",
       "        vertical-align: top;\n",
       "    }\n",
       "</style>\n",
       "<table border=\"1\" class=\"dataframe\">\n",
       "  <thead>\n",
       "    <tr style=\"text-align: right;\">\n",
       "      <th></th>\n",
       "      <th>No1</th>\n",
       "      <th>No2</th>\n",
       "      <th>No3</th>\n",
       "      <th>No4</th>\n",
       "    </tr>\n",
       "  </thead>\n",
       "  <tbody>\n",
       "    <tr>\n",
       "      <th>2015-01-31</th>\n",
       "      <td>-1.174896</td>\n",
       "      <td>-0.781531</td>\n",
       "      <td>-0.488791</td>\n",
       "      <td>-0.645084</td>\n",
       "    </tr>\n",
       "    <tr>\n",
       "      <th>2015-02-28</th>\n",
       "      <td>-2.086432</td>\n",
       "      <td>-0.142016</td>\n",
       "      <td>-0.132723</td>\n",
       "      <td>-0.404390</td>\n",
       "    </tr>\n",
       "    <tr>\n",
       "      <th>2015-03-31</th>\n",
       "      <td>-3.433007</td>\n",
       "      <td>-0.579348</td>\n",
       "      <td>2.203987</td>\n",
       "      <td>-0.691417</td>\n",
       "    </tr>\n",
       "    <tr>\n",
       "      <th>2015-04-30</th>\n",
       "      <td>-4.542231</td>\n",
       "      <td>-1.082436</td>\n",
       "      <td>1.742739</td>\n",
       "      <td>-0.021554</td>\n",
       "    </tr>\n",
       "    <tr>\n",
       "      <th>2015-05-31</th>\n",
       "      <td>-2.200748</td>\n",
       "      <td>-1.501171</td>\n",
       "      <td>3.039706</td>\n",
       "      <td>0.350860</td>\n",
       "    </tr>\n",
       "    <tr>\n",
       "      <th>2015-06-30</th>\n",
       "      <td>-2.911979</td>\n",
       "      <td>-2.247841</td>\n",
       "      <td>4.354909</td>\n",
       "      <td>0.673441</td>\n",
       "    </tr>\n",
       "    <tr>\n",
       "      <th>2015-07-31</th>\n",
       "      <td>-1.749980</td>\n",
       "      <td>-3.436070</td>\n",
       "      <td>2.673916</td>\n",
       "      <td>-0.136073</td>\n",
       "    </tr>\n",
       "    <tr>\n",
       "      <th>2015-08-31</th>\n",
       "      <td>-4.099416</td>\n",
       "      <td>-2.775895</td>\n",
       "      <td>1.640364</td>\n",
       "      <td>-1.372229</td>\n",
       "    </tr>\n",
       "    <tr>\n",
       "      <th>2015-09-30</th>\n",
       "      <td>-1.789895</td>\n",
       "      <td>-2.928751</td>\n",
       "      <td>3.137272</td>\n",
       "      <td>-2.261354</td>\n",
       "    </tr>\n",
       "  </tbody>\n",
       "</table>\n",
       "</div>"
      ],
      "text/plain": [
       "                 No1       No2       No3       No4\n",
       "2015-01-31 -1.174896 -0.781531 -0.488791 -0.645084\n",
       "2015-02-28 -2.086432 -0.142016 -0.132723 -0.404390\n",
       "2015-03-31 -3.433007 -0.579348  2.203987 -0.691417\n",
       "2015-04-30 -4.542231 -1.082436  1.742739 -0.021554\n",
       "2015-05-31 -2.200748 -1.501171  3.039706  0.350860\n",
       "2015-06-30 -2.911979 -2.247841  4.354909  0.673441\n",
       "2015-07-31 -1.749980 -3.436070  2.673916 -0.136073\n",
       "2015-08-31 -4.099416 -2.775895  1.640364 -1.372229\n",
       "2015-09-30 -1.789895 -2.928751  3.137272 -2.261354"
      ]
     },
     "execution_count": 12,
     "metadata": {},
     "output_type": "execute_result"
    }
   ],
   "source": [
    "df.cumsum()"
   ]
  },
  {
   "cell_type": "code",
   "execution_count": 13,
   "metadata": {},
   "outputs": [
    {
     "data": {
      "text/html": [
       "<div>\n",
       "<style>\n",
       "    .dataframe thead tr:only-child th {\n",
       "        text-align: right;\n",
       "    }\n",
       "\n",
       "    .dataframe thead th {\n",
       "        text-align: left;\n",
       "    }\n",
       "\n",
       "    .dataframe tbody tr th {\n",
       "        vertical-align: top;\n",
       "    }\n",
       "</style>\n",
       "<table border=\"1\" class=\"dataframe\">\n",
       "  <thead>\n",
       "    <tr style=\"text-align: right;\">\n",
       "      <th></th>\n",
       "      <th>No1</th>\n",
       "      <th>No2</th>\n",
       "      <th>No3</th>\n",
       "      <th>No4</th>\n",
       "    </tr>\n",
       "  </thead>\n",
       "  <tbody>\n",
       "    <tr>\n",
       "      <th>count</th>\n",
       "      <td>9.000000</td>\n",
       "      <td>9.000000</td>\n",
       "      <td>9.000000</td>\n",
       "      <td>9.000000</td>\n",
       "    </tr>\n",
       "    <tr>\n",
       "      <th>mean</th>\n",
       "      <td>-0.198877</td>\n",
       "      <td>-0.325417</td>\n",
       "      <td>0.348586</td>\n",
       "      <td>-0.251262</td>\n",
       "    </tr>\n",
       "    <tr>\n",
       "      <th>std</th>\n",
       "      <td>1.698945</td>\n",
       "      <td>0.624000</td>\n",
       "      <td>1.345903</td>\n",
       "      <td>0.675802</td>\n",
       "    </tr>\n",
       "    <tr>\n",
       "      <th>min</th>\n",
       "      <td>-2.349436</td>\n",
       "      <td>-1.188229</td>\n",
       "      <td>-1.680993</td>\n",
       "      <td>-1.236157</td>\n",
       "    </tr>\n",
       "    <tr>\n",
       "      <th>25%</th>\n",
       "      <td>-1.174896</td>\n",
       "      <td>-0.746671</td>\n",
       "      <td>-0.488791</td>\n",
       "      <td>-0.809513</td>\n",
       "    </tr>\n",
       "    <tr>\n",
       "      <th>50%</th>\n",
       "      <td>-0.911536</td>\n",
       "      <td>-0.437332</td>\n",
       "      <td>0.356068</td>\n",
       "      <td>-0.287027</td>\n",
       "    </tr>\n",
       "    <tr>\n",
       "      <th>75%</th>\n",
       "      <td>1.161999</td>\n",
       "      <td>-0.152856</td>\n",
       "      <td>1.315203</td>\n",
       "      <td>0.322580</td>\n",
       "    </tr>\n",
       "    <tr>\n",
       "      <th>max</th>\n",
       "      <td>2.341483</td>\n",
       "      <td>0.660176</td>\n",
       "      <td>2.336709</td>\n",
       "      <td>0.669863</td>\n",
       "    </tr>\n",
       "  </tbody>\n",
       "</table>\n",
       "</div>"
      ],
      "text/plain": [
       "            No1       No2       No3       No4\n",
       "count  9.000000  9.000000  9.000000  9.000000\n",
       "mean  -0.198877 -0.325417  0.348586 -0.251262\n",
       "std    1.698945  0.624000  1.345903  0.675802\n",
       "min   -2.349436 -1.188229 -1.680993 -1.236157\n",
       "25%   -1.174896 -0.746671 -0.488791 -0.809513\n",
       "50%   -0.911536 -0.437332  0.356068 -0.287027\n",
       "75%    1.161999 -0.152856  1.315203  0.322580\n",
       "max    2.341483  0.660176  2.336709  0.669863"
      ]
     },
     "execution_count": 13,
     "metadata": {},
     "output_type": "execute_result"
    }
   ],
   "source": [
    "df.describe()"
   ]
  },
  {
   "cell_type": "code",
   "execution_count": 14,
   "metadata": {},
   "outputs": [
    {
     "name": "stderr",
     "output_type": "stream",
     "text": [
      "/anaconda3/lib/python3.6/site-packages/ipykernel_launcher.py:1: RuntimeWarning: invalid value encountered in sqrt\n",
      "  \"\"\"Entry point for launching an IPython kernel.\n"
     ]
    },
    {
     "data": {
      "text/html": [
       "<div>\n",
       "<style>\n",
       "    .dataframe thead tr:only-child th {\n",
       "        text-align: right;\n",
       "    }\n",
       "\n",
       "    .dataframe thead th {\n",
       "        text-align: left;\n",
       "    }\n",
       "\n",
       "    .dataframe tbody tr th {\n",
       "        vertical-align: top;\n",
       "    }\n",
       "</style>\n",
       "<table border=\"1\" class=\"dataframe\">\n",
       "  <thead>\n",
       "    <tr style=\"text-align: right;\">\n",
       "      <th></th>\n",
       "      <th>No1</th>\n",
       "      <th>No2</th>\n",
       "      <th>No3</th>\n",
       "      <th>No4</th>\n",
       "    </tr>\n",
       "  </thead>\n",
       "  <tbody>\n",
       "    <tr>\n",
       "      <th>2015-01-31</th>\n",
       "      <td>NaN</td>\n",
       "      <td>NaN</td>\n",
       "      <td>NaN</td>\n",
       "      <td>NaN</td>\n",
       "    </tr>\n",
       "    <tr>\n",
       "      <th>2015-02-28</th>\n",
       "      <td>NaN</td>\n",
       "      <td>0.799697</td>\n",
       "      <td>0.596715</td>\n",
       "      <td>0.490605</td>\n",
       "    </tr>\n",
       "    <tr>\n",
       "      <th>2015-03-31</th>\n",
       "      <td>NaN</td>\n",
       "      <td>NaN</td>\n",
       "      <td>1.528630</td>\n",
       "      <td>NaN</td>\n",
       "    </tr>\n",
       "    <tr>\n",
       "      <th>2015-04-30</th>\n",
       "      <td>NaN</td>\n",
       "      <td>NaN</td>\n",
       "      <td>NaN</td>\n",
       "      <td>0.818452</td>\n",
       "    </tr>\n",
       "    <tr>\n",
       "      <th>2015-05-31</th>\n",
       "      <td>1.530191</td>\n",
       "      <td>NaN</td>\n",
       "      <td>1.138845</td>\n",
       "      <td>0.610258</td>\n",
       "    </tr>\n",
       "    <tr>\n",
       "      <th>2015-06-30</th>\n",
       "      <td>NaN</td>\n",
       "      <td>NaN</td>\n",
       "      <td>1.146823</td>\n",
       "      <td>0.567961</td>\n",
       "    </tr>\n",
       "    <tr>\n",
       "      <th>2015-07-31</th>\n",
       "      <td>1.077961</td>\n",
       "      <td>NaN</td>\n",
       "      <td>NaN</td>\n",
       "      <td>NaN</td>\n",
       "    </tr>\n",
       "    <tr>\n",
       "      <th>2015-08-31</th>\n",
       "      <td>NaN</td>\n",
       "      <td>0.812512</td>\n",
       "      <td>NaN</td>\n",
       "      <td>NaN</td>\n",
       "    </tr>\n",
       "    <tr>\n",
       "      <th>2015-09-30</th>\n",
       "      <td>1.519711</td>\n",
       "      <td>NaN</td>\n",
       "      <td>1.223482</td>\n",
       "      <td>NaN</td>\n",
       "    </tr>\n",
       "  </tbody>\n",
       "</table>\n",
       "</div>"
      ],
      "text/plain": [
       "                 No1       No2       No3       No4\n",
       "2015-01-31       NaN       NaN       NaN       NaN\n",
       "2015-02-28       NaN  0.799697  0.596715  0.490605\n",
       "2015-03-31       NaN       NaN  1.528630       NaN\n",
       "2015-04-30       NaN       NaN       NaN  0.818452\n",
       "2015-05-31  1.530191       NaN  1.138845  0.610258\n",
       "2015-06-30       NaN       NaN  1.146823  0.567961\n",
       "2015-07-31  1.077961       NaN       NaN       NaN\n",
       "2015-08-31       NaN  0.812512       NaN       NaN\n",
       "2015-09-30  1.519711       NaN  1.223482       NaN"
      ]
     },
     "execution_count": 14,
     "metadata": {},
     "output_type": "execute_result"
    }
   ],
   "source": [
    "np.sqrt(df)"
   ]
  },
  {
   "cell_type": "code",
   "execution_count": 15,
   "metadata": {},
   "outputs": [
    {
     "name": "stderr",
     "output_type": "stream",
     "text": [
      "/anaconda3/lib/python3.6/site-packages/ipykernel_launcher.py:1: RuntimeWarning: invalid value encountered in sqrt\n",
      "  \"\"\"Entry point for launching an IPython kernel.\n"
     ]
    },
    {
     "data": {
      "text/plain": [
       "No1    4.127862\n",
       "No2    1.612209\n",
       "No3    5.634494\n",
       "No4    2.487276\n",
       "dtype: float64"
      ]
     },
     "execution_count": 15,
     "metadata": {},
     "output_type": "execute_result"
    }
   ],
   "source": [
    "np.sqrt(df).sum()"
   ]
  },
  {
   "cell_type": "code",
   "execution_count": 16,
   "metadata": {},
   "outputs": [
    {
     "data": {
      "text/plain": [
       "<matplotlib.axes._subplots.AxesSubplot at 0x107401320>"
      ]
     },
     "execution_count": 16,
     "metadata": {},
     "output_type": "execute_result"
    },
    {
     "data": {
      "image/png": "[encoded data removed]",
      "text/plain": [
       "<matplotlib.figure.Figure at 0x106a9ccf8>"
      ]
     },
     "metadata": {},
     "output_type": "display_data"
    }
   ],
   "source": [
    "%matplotlib inline\n",
    "df.cumsum().plot(lw=2.0)"
   ]
  },
  {
   "cell_type": "code",
   "execution_count": 17,
   "metadata": {},
   "outputs": [
    {
     "data": {
      "text/plain": [
       "pandas.core.frame.DataFrame"
      ]
     },
     "execution_count": 17,
     "metadata": {},
     "output_type": "execute_result"
    }
   ],
   "source": [
    "type(df)"
   ]
  },
  {
   "cell_type": "code",
   "execution_count": 18,
   "metadata": {},
   "outputs": [
    {
     "data": {
      "text/plain": [
       "2015-01-31   -1.174896\n",
       "2015-02-28   -0.911536\n",
       "2015-03-31   -1.346575\n",
       "2015-04-30   -1.109224\n",
       "2015-05-31    2.341483\n",
       "2015-06-30   -0.711231\n",
       "2015-07-31    1.161999\n",
       "2015-08-31   -2.349436\n",
       "2015-09-30    2.309521\n",
       "Freq: M, Name: No1, dtype: float64"
      ]
     },
     "execution_count": 18,
     "metadata": {},
     "output_type": "execute_result"
    }
   ],
   "source": [
    "df['No1']"
   ]
  },
  {
   "cell_type": "code",
   "execution_count": 19,
   "metadata": {},
   "outputs": [
    {
     "data": {
      "text/plain": [
       "pandas.core.series.Series"
      ]
     },
     "execution_count": 19,
     "metadata": {},
     "output_type": "execute_result"
    }
   ],
   "source": [
    "type(df['No1'])"
   ]
  },
  {
   "cell_type": "code",
   "execution_count": 20,
   "metadata": {},
   "outputs": [
    {
     "data": {
      "text/plain": [
       "Text(0,0.5,'value')"
      ]
     },
     "execution_count": 20,
     "metadata": {},
     "output_type": "execute_result"
    },
    {
     "data": {
      "image/png": "[encoded data removed]",
      "text/plain": [
       "<matplotlib.figure.Figure at 0x1073b9ba8>"
      ]
     },
     "metadata": {},
     "output_type": "display_data"
    }
   ],
   "source": [
    "import matplotlib.pyplot as plt\n",
    "df['No1'].cumsum().plot(style='r', lw=2)\n",
    "plt.xlabel('date')\n",
    "plt.ylabel('value')"
   ]
  },
  {
   "cell_type": "code",
   "execution_count": 21,
   "metadata": {},
   "outputs": [
    {
     "data": {
      "text/html": [
       "<div>\n",
       "<style>\n",
       "    .dataframe thead tr:only-child th {\n",
       "        text-align: right;\n",
       "    }\n",
       "\n",
       "    .dataframe thead th {\n",
       "        text-align: left;\n",
       "    }\n",
       "\n",
       "    .dataframe tbody tr th {\n",
       "        vertical-align: top;\n",
       "    }\n",
       "</style>\n",
       "<table border=\"1\" class=\"dataframe\">\n",
       "  <thead>\n",
       "    <tr style=\"text-align: right;\">\n",
       "      <th></th>\n",
       "      <th>No1</th>\n",
       "      <th>No2</th>\n",
       "      <th>No3</th>\n",
       "      <th>No4</th>\n",
       "      <th>Quarter</th>\n",
       "    </tr>\n",
       "  </thead>\n",
       "  <tbody>\n",
       "    <tr>\n",
       "      <th>2015-01-31</th>\n",
       "      <td>-1.174896</td>\n",
       "      <td>-0.781531</td>\n",
       "      <td>-0.488791</td>\n",
       "      <td>-0.645084</td>\n",
       "      <td>Q1</td>\n",
       "    </tr>\n",
       "    <tr>\n",
       "      <th>2015-02-28</th>\n",
       "      <td>-0.911536</td>\n",
       "      <td>0.639515</td>\n",
       "      <td>0.356068</td>\n",
       "      <td>0.240694</td>\n",
       "      <td>Q1</td>\n",
       "    </tr>\n",
       "    <tr>\n",
       "      <th>2015-03-31</th>\n",
       "      <td>-1.346575</td>\n",
       "      <td>-0.437332</td>\n",
       "      <td>2.336709</td>\n",
       "      <td>-0.287027</td>\n",
       "      <td>Q1</td>\n",
       "    </tr>\n",
       "    <tr>\n",
       "      <th>2015-04-30</th>\n",
       "      <td>-1.109224</td>\n",
       "      <td>-0.503087</td>\n",
       "      <td>-0.461248</td>\n",
       "      <td>0.669863</td>\n",
       "      <td>Q2</td>\n",
       "    </tr>\n",
       "    <tr>\n",
       "      <th>2015-05-31</th>\n",
       "      <td>2.341483</td>\n",
       "      <td>-0.418735</td>\n",
       "      <td>1.296967</td>\n",
       "      <td>0.372415</td>\n",
       "      <td>Q2</td>\n",
       "    </tr>\n",
       "    <tr>\n",
       "      <th>2015-06-30</th>\n",
       "      <td>-0.711231</td>\n",
       "      <td>-0.746671</td>\n",
       "      <td>1.315203</td>\n",
       "      <td>0.322580</td>\n",
       "      <td>Q2</td>\n",
       "    </tr>\n",
       "    <tr>\n",
       "      <th>2015-07-31</th>\n",
       "      <td>1.161999</td>\n",
       "      <td>-1.188229</td>\n",
       "      <td>-1.680993</td>\n",
       "      <td>-0.809513</td>\n",
       "      <td>Q3</td>\n",
       "    </tr>\n",
       "    <tr>\n",
       "      <th>2015-08-31</th>\n",
       "      <td>-2.349436</td>\n",
       "      <td>0.660176</td>\n",
       "      <td>-1.033552</td>\n",
       "      <td>-1.236157</td>\n",
       "      <td>Q3</td>\n",
       "    </tr>\n",
       "    <tr>\n",
       "      <th>2015-09-30</th>\n",
       "      <td>2.309521</td>\n",
       "      <td>-0.152856</td>\n",
       "      <td>1.496908</td>\n",
       "      <td>-0.889125</td>\n",
       "      <td>Q3</td>\n",
       "    </tr>\n",
       "  </tbody>\n",
       "</table>\n",
       "</div>"
      ],
      "text/plain": [
       "                 No1       No2       No3       No4 Quarter\n",
       "2015-01-31 -1.174896 -0.781531 -0.488791 -0.645084      Q1\n",
       "2015-02-28 -0.911536  0.639515  0.356068  0.240694      Q1\n",
       "2015-03-31 -1.346575 -0.437332  2.336709 -0.287027      Q1\n",
       "2015-04-30 -1.109224 -0.503087 -0.461248  0.669863      Q2\n",
       "2015-05-31  2.341483 -0.418735  1.296967  0.372415      Q2\n",
       "2015-06-30 -0.711231 -0.746671  1.315203  0.322580      Q2\n",
       "2015-07-31  1.161999 -1.188229 -1.680993 -0.809513      Q3\n",
       "2015-08-31 -2.349436  0.660176 -1.033552 -1.236157      Q3\n",
       "2015-09-30  2.309521 -0.152856  1.496908 -0.889125      Q3"
      ]
     },
     "execution_count": 21,
     "metadata": {},
     "output_type": "execute_result"
    }
   ],
   "source": [
    "df['Quarter']=['Q1', 'Q1', 'Q1', 'Q2', 'Q2', 'Q2', 'Q3', 'Q3', 'Q3']\n",
    "df"
   ]
  },
  {
   "cell_type": "code",
   "execution_count": 23,
   "metadata": {
    "collapsed": true
   },
   "outputs": [],
   "source": [
    "groups = df.groupby('Quarter')"
   ]
  },
  {
   "cell_type": "code",
   "execution_count": 24,
   "metadata": {},
   "outputs": [
    {
     "data": {
      "text/html": [
       "<div>\n",
       "<style>\n",
       "    .dataframe thead tr:only-child th {\n",
       "        text-align: right;\n",
       "    }\n",
       "\n",
       "    .dataframe thead th {\n",
       "        text-align: left;\n",
       "    }\n",
       "\n",
       "    .dataframe tbody tr th {\n",
       "        vertical-align: top;\n",
       "    }\n",
       "</style>\n",
       "<table border=\"1\" class=\"dataframe\">\n",
       "  <thead>\n",
       "    <tr style=\"text-align: right;\">\n",
       "      <th></th>\n",
       "      <th>No1</th>\n",
       "      <th>No2</th>\n",
       "      <th>No3</th>\n",
       "      <th>No4</th>\n",
       "    </tr>\n",
       "    <tr>\n",
       "      <th>Quarter</th>\n",
       "      <th></th>\n",
       "      <th></th>\n",
       "      <th></th>\n",
       "      <th></th>\n",
       "    </tr>\n",
       "  </thead>\n",
       "  <tbody>\n",
       "    <tr>\n",
       "      <th>Q1</th>\n",
       "      <td>-1.144336</td>\n",
       "      <td>-0.193116</td>\n",
       "      <td>0.734662</td>\n",
       "      <td>-0.230472</td>\n",
       "    </tr>\n",
       "    <tr>\n",
       "      <th>Q2</th>\n",
       "      <td>0.173676</td>\n",
       "      <td>-0.556164</td>\n",
       "      <td>0.716974</td>\n",
       "      <td>0.454953</td>\n",
       "    </tr>\n",
       "    <tr>\n",
       "      <th>Q3</th>\n",
       "      <td>0.374028</td>\n",
       "      <td>-0.226970</td>\n",
       "      <td>-0.405879</td>\n",
       "      <td>-0.978265</td>\n",
       "    </tr>\n",
       "  </tbody>\n",
       "</table>\n",
       "</div>"
      ],
      "text/plain": [
       "              No1       No2       No3       No4\n",
       "Quarter                                        \n",
       "Q1      -1.144336 -0.193116  0.734662 -0.230472\n",
       "Q2       0.173676 -0.556164  0.716974  0.454953\n",
       "Q3       0.374028 -0.226970 -0.405879 -0.978265"
      ]
     },
     "execution_count": 24,
     "metadata": {},
     "output_type": "execute_result"
    }
   ],
   "source": [
    "groups.mean()"
   ]
  },
  {
   "cell_type": "code",
   "execution_count": 25,
   "metadata": {},
   "outputs": [
    {
     "data": {
      "text/html": [
       "<div>\n",
       "<style>\n",
       "    .dataframe thead tr:only-child th {\n",
       "        text-align: right;\n",
       "    }\n",
       "\n",
       "    .dataframe thead th {\n",
       "        text-align: left;\n",
       "    }\n",
       "\n",
       "    .dataframe tbody tr th {\n",
       "        vertical-align: top;\n",
       "    }\n",
       "</style>\n",
       "<table border=\"1\" class=\"dataframe\">\n",
       "  <thead>\n",
       "    <tr>\n",
       "      <th></th>\n",
       "      <th colspan=\"8\" halign=\"left\">No1</th>\n",
       "      <th colspan=\"2\" halign=\"left\">No2</th>\n",
       "      <th>...</th>\n",
       "      <th colspan=\"2\" halign=\"left\">No3</th>\n",
       "      <th colspan=\"8\" halign=\"left\">No4</th>\n",
       "    </tr>\n",
       "    <tr>\n",
       "      <th></th>\n",
       "      <th>count</th>\n",
       "      <th>mean</th>\n",
       "      <th>std</th>\n",
       "      <th>min</th>\n",
       "      <th>25%</th>\n",
       "      <th>50%</th>\n",
       "      <th>75%</th>\n",
       "      <th>max</th>\n",
       "      <th>count</th>\n",
       "      <th>mean</th>\n",
       "      <th>...</th>\n",
       "      <th>75%</th>\n",
       "      <th>max</th>\n",
       "      <th>count</th>\n",
       "      <th>mean</th>\n",
       "      <th>std</th>\n",
       "      <th>min</th>\n",
       "      <th>25%</th>\n",
       "      <th>50%</th>\n",
       "      <th>75%</th>\n",
       "      <th>max</th>\n",
       "    </tr>\n",
       "    <tr>\n",
       "      <th>Quarter</th>\n",
       "      <th></th>\n",
       "      <th></th>\n",
       "      <th></th>\n",
       "      <th></th>\n",
       "      <th></th>\n",
       "      <th></th>\n",
       "      <th></th>\n",
       "      <th></th>\n",
       "      <th></th>\n",
       "      <th></th>\n",
       "      <th></th>\n",
       "      <th></th>\n",
       "      <th></th>\n",
       "      <th></th>\n",
       "      <th></th>\n",
       "      <th></th>\n",
       "      <th></th>\n",
       "      <th></th>\n",
       "      <th></th>\n",
       "      <th></th>\n",
       "      <th></th>\n",
       "    </tr>\n",
       "  </thead>\n",
       "  <tbody>\n",
       "    <tr>\n",
       "      <th>Q1</th>\n",
       "      <td>3.0</td>\n",
       "      <td>-1.144336</td>\n",
       "      <td>0.219123</td>\n",
       "      <td>-1.346575</td>\n",
       "      <td>-1.260735</td>\n",
       "      <td>-1.174896</td>\n",
       "      <td>-1.043216</td>\n",
       "      <td>-0.911536</td>\n",
       "      <td>3.0</td>\n",
       "      <td>-0.193116</td>\n",
       "      <td>...</td>\n",
       "      <td>1.346389</td>\n",
       "      <td>2.336709</td>\n",
       "      <td>3.0</td>\n",
       "      <td>-0.230472</td>\n",
       "      <td>0.445589</td>\n",
       "      <td>-0.645084</td>\n",
       "      <td>-0.466055</td>\n",
       "      <td>-0.287027</td>\n",
       "      <td>-0.023167</td>\n",
       "      <td>0.240694</td>\n",
       "    </tr>\n",
       "    <tr>\n",
       "      <th>Q2</th>\n",
       "      <td>3.0</td>\n",
       "      <td>0.173676</td>\n",
       "      <td>1.887893</td>\n",
       "      <td>-1.109224</td>\n",
       "      <td>-0.910228</td>\n",
       "      <td>-0.711231</td>\n",
       "      <td>0.815126</td>\n",
       "      <td>2.341483</td>\n",
       "      <td>3.0</td>\n",
       "      <td>-0.556164</td>\n",
       "      <td>...</td>\n",
       "      <td>1.306085</td>\n",
       "      <td>1.315203</td>\n",
       "      <td>3.0</td>\n",
       "      <td>0.454953</td>\n",
       "      <td>0.187779</td>\n",
       "      <td>0.322580</td>\n",
       "      <td>0.347497</td>\n",
       "      <td>0.372415</td>\n",
       "      <td>0.521139</td>\n",
       "      <td>0.669863</td>\n",
       "    </tr>\n",
       "    <tr>\n",
       "      <th>Q3</th>\n",
       "      <td>3.0</td>\n",
       "      <td>0.374028</td>\n",
       "      <td>2.427374</td>\n",
       "      <td>-2.349436</td>\n",
       "      <td>-0.593718</td>\n",
       "      <td>1.161999</td>\n",
       "      <td>1.735760</td>\n",
       "      <td>2.309521</td>\n",
       "      <td>3.0</td>\n",
       "      <td>-0.226970</td>\n",
       "      <td>...</td>\n",
       "      <td>0.231678</td>\n",
       "      <td>1.496908</td>\n",
       "      <td>3.0</td>\n",
       "      <td>-0.978265</td>\n",
       "      <td>0.226860</td>\n",
       "      <td>-1.236157</td>\n",
       "      <td>-1.062641</td>\n",
       "      <td>-0.889125</td>\n",
       "      <td>-0.849319</td>\n",
       "      <td>-0.809513</td>\n",
       "    </tr>\n",
       "  </tbody>\n",
       "</table>\n",
       "<p>3 rows × 32 columns</p>\n",
       "</div>"
      ],
      "text/plain": [
       "          No1                                                              \\\n",
       "        count      mean       std       min       25%       50%       75%   \n",
       "Quarter                                                                     \n",
       "Q1        3.0 -1.144336  0.219123 -1.346575 -1.260735 -1.174896 -1.043216   \n",
       "Q2        3.0  0.173676  1.887893 -1.109224 -0.910228 -0.711231  0.815126   \n",
       "Q3        3.0  0.374028  2.427374 -2.349436 -0.593718  1.161999  1.735760   \n",
       "\n",
       "                    No2              ...          No3             No4  \\\n",
       "              max count      mean    ...          75%       max count   \n",
       "Quarter                              ...                                \n",
       "Q1      -0.911536   3.0 -0.193116    ...     1.346389  2.336709   3.0   \n",
       "Q2       2.341483   3.0 -0.556164    ...     1.306085  1.315203   3.0   \n",
       "Q3       2.309521   3.0 -0.226970    ...     0.231678  1.496908   3.0   \n",
       "\n",
       "                                                                               \n",
       "             mean       std       min       25%       50%       75%       max  \n",
       "Quarter                                                                        \n",
       "Q1      -0.230472  0.445589 -0.645084 -0.466055 -0.287027 -0.023167  0.240694  \n",
       "Q2       0.454953  0.187779  0.322580  0.347497  0.372415  0.521139  0.669863  \n",
       "Q3      -0.978265  0.226860 -1.236157 -1.062641 -0.889125 -0.849319 -0.809513  \n",
       "\n",
       "[3 rows x 32 columns]"
      ]
     },
     "execution_count": 25,
     "metadata": {},
     "output_type": "execute_result"
    }
   ],
   "source": [
    "groups.describe()"
   ]
  },
  {
   "cell_type": "code",
   "execution_count": 26,
   "metadata": {},
   "outputs": [
    {
     "data": {
      "text/plain": [
       "Quarter\n",
       "Q1    3\n",
       "Q2    3\n",
       "Q3    3\n",
       "dtype: int64"
      ]
     },
     "execution_count": 26,
     "metadata": {},
     "output_type": "execute_result"
    }
   ],
   "source": [
    "groups.size()"
   ]
  },
  {
   "cell_type": "code",
   "execution_count": 27,
   "metadata": {
    "collapsed": true
   },
   "outputs": [],
   "source": [
    "df['Odd_Even'] = ['Odd', 'Even', 'Odd', 'Even', 'Odd', 'Even', 'Odd', 'Even', 'Odd']"
   ]
  },
  {
   "cell_type": "code",
   "execution_count": 28,
   "metadata": {
    "collapsed": true
   },
   "outputs": [],
   "source": [
    "groups = df.groupby(['Quarter', 'Odd_Even'])"
   ]
  },
  {
   "cell_type": "code",
   "execution_count": 29,
   "metadata": {},
   "outputs": [
    {
     "data": {
      "text/plain": [
       "Quarter  Odd_Even\n",
       "Q1       Even        1\n",
       "         Odd         2\n",
       "Q2       Even        2\n",
       "         Odd         1\n",
       "Q3       Even        1\n",
       "         Odd         2\n",
       "dtype: int64"
      ]
     },
     "execution_count": 29,
     "metadata": {},
     "output_type": "execute_result"
    }
   ],
   "source": [
    "groups.size()"
   ]
  },
  {
   "cell_type": "code",
   "execution_count": 30,
   "metadata": {},
   "outputs": [
    {
     "data": {
      "text/html": [
       "<div>\n",
       "<style>\n",
       "    .dataframe thead tr:only-child th {\n",
       "        text-align: right;\n",
       "    }\n",
       "\n",
       "    .dataframe thead th {\n",
       "        text-align: left;\n",
       "    }\n",
       "\n",
       "    .dataframe tbody tr th {\n",
       "        vertical-align: top;\n",
       "    }\n",
       "</style>\n",
       "<table border=\"1\" class=\"dataframe\">\n",
       "  <thead>\n",
       "    <tr style=\"text-align: right;\">\n",
       "      <th></th>\n",
       "      <th></th>\n",
       "      <th>No1</th>\n",
       "      <th>No2</th>\n",
       "      <th>No3</th>\n",
       "      <th>No4</th>\n",
       "    </tr>\n",
       "    <tr>\n",
       "      <th>Quarter</th>\n",
       "      <th>Odd_Even</th>\n",
       "      <th></th>\n",
       "      <th></th>\n",
       "      <th></th>\n",
       "      <th></th>\n",
       "    </tr>\n",
       "  </thead>\n",
       "  <tbody>\n",
       "    <tr>\n",
       "      <th rowspan=\"2\" valign=\"top\">Q1</th>\n",
       "      <th>Even</th>\n",
       "      <td>-0.911536</td>\n",
       "      <td>0.639515</td>\n",
       "      <td>0.356068</td>\n",
       "      <td>0.240694</td>\n",
       "    </tr>\n",
       "    <tr>\n",
       "      <th>Odd</th>\n",
       "      <td>-1.260735</td>\n",
       "      <td>-0.609432</td>\n",
       "      <td>0.923959</td>\n",
       "      <td>-0.466055</td>\n",
       "    </tr>\n",
       "    <tr>\n",
       "      <th rowspan=\"2\" valign=\"top\">Q2</th>\n",
       "      <th>Even</th>\n",
       "      <td>-0.910228</td>\n",
       "      <td>-0.624879</td>\n",
       "      <td>0.426978</td>\n",
       "      <td>0.496222</td>\n",
       "    </tr>\n",
       "    <tr>\n",
       "      <th>Odd</th>\n",
       "      <td>2.341483</td>\n",
       "      <td>-0.418735</td>\n",
       "      <td>1.296967</td>\n",
       "      <td>0.372415</td>\n",
       "    </tr>\n",
       "    <tr>\n",
       "      <th rowspan=\"2\" valign=\"top\">Q3</th>\n",
       "      <th>Even</th>\n",
       "      <td>-2.349436</td>\n",
       "      <td>0.660176</td>\n",
       "      <td>-1.033552</td>\n",
       "      <td>-1.236157</td>\n",
       "    </tr>\n",
       "    <tr>\n",
       "      <th>Odd</th>\n",
       "      <td>1.735760</td>\n",
       "      <td>-0.670543</td>\n",
       "      <td>-0.092042</td>\n",
       "      <td>-0.849319</td>\n",
       "    </tr>\n",
       "  </tbody>\n",
       "</table>\n",
       "</div>"
      ],
      "text/plain": [
       "                       No1       No2       No3       No4\n",
       "Quarter Odd_Even                                        \n",
       "Q1      Even     -0.911536  0.639515  0.356068  0.240694\n",
       "        Odd      -1.260735 -0.609432  0.923959 -0.466055\n",
       "Q2      Even     -0.910228 -0.624879  0.426978  0.496222\n",
       "        Odd       2.341483 -0.418735  1.296967  0.372415\n",
       "Q3      Even     -2.349436  0.660176 -1.033552 -1.236157\n",
       "        Odd       1.735760 -0.670543 -0.092042 -0.849319"
      ]
     },
     "execution_count": 30,
     "metadata": {},
     "output_type": "execute_result"
    }
   ],
   "source": [
    "groups.mean()"
   ]
  }
 ],
 "metadata": {
  "kernelspec": {
   "display_name": "Python 3",
   "language": "python",
   "name": "python3"
  },
  "language_info": {
   "codemirror_mode": {
    "name": "ipython",
    "version": 3
   },
   "file_extension": ".py",
   "mimetype": "text/x-python",
   "name": "python",
   "nbconvert_exporter": "python",
   "pygments_lexer": "ipython3",
   "version": "3.6.3"
  }
 },
 "nbformat": 4,
 "nbformat_minor": 2
}
